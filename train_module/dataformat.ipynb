{
 "cells": [
  {
   "cell_type": "code",
   "execution_count": 1,
   "id": "d9abc385-b4bd-4987-acb3-ca988a8715a1",
   "metadata": {
    "tags": []
   },
   "outputs": [],
   "source": [
    "from datasets import load_dataset\n",
    "\n",
    "CorpusPath = '/home/jovyan/mi-drive/medinfo_lab/Research_Projects/zhang/Husky/data/data_for_tain_tokenizer.txt'\n",
    "\n",
    "train_dataset = load_dataset(\"text\", data_files=CorpusPath, split='train')\n",
    "\n",
    "train_data = train_dataset['text']"
   ]
  },
  {
   "cell_type": "code",
   "execution_count": 2,
   "id": "a7004b45-1d33-40e5-99da-4b7260474961",
   "metadata": {
    "tags": []
   },
   "outputs": [],
   "source": [
    "import pandas as pd\n",
    "df = pd.DataFrame(train_data)"
   ]
  },
  {
   "cell_type": "code",
   "execution_count": 3,
   "id": "f2c62421-bc91-4cd7-b3f3-f471c0917183",
   "metadata": {
    "tags": []
   },
   "outputs": [],
   "source": [
    "df = df.dropna()"
   ]
  },
  {
   "cell_type": "code",
   "execution_count": 4,
   "id": "a8dc16c4-1e6d-40d0-997d-d3d6a57ffca2",
   "metadata": {},
   "outputs": [
    {
     "data": {
      "text/plain": [
       "197374098"
      ]
     },
     "execution_count": 4,
     "metadata": {},
     "output_type": "execute_result"
    }
   ],
   "source": [
    "len(train_data)"
   ]
  },
  {
   "cell_type": "code",
   "execution_count": 8,
   "id": "002a1786-99ad-46f9-a969-94fbf01429d3",
   "metadata": {
    "tags": []
   },
   "outputs": [],
   "source": [
    "a = set()"
   ]
  },
  {
   "cell_type": "code",
   "execution_count": null,
   "id": "982cc1dd-911b-4575-a68d-527bd861a500",
   "metadata": {
    "tags": []
   },
   "outputs": [],
   "source": [
    "for i in df.iterrows():\n",
    "    a.add(len(i[1]))"
   ]
  },
  {
   "cell_type": "code",
   "execution_count": null,
   "id": "205011e1-4d71-4359-bb6a-0cd4e0e67ffb",
   "metadata": {},
   "outputs": [],
   "source": []
  }
 ],
 "metadata": {
  "kernelspec": {
   "display_name": "Python 3 (ipykernel)",
   "language": "python",
   "name": "python3"
  },
  "language_info": {
   "codemirror_mode": {
    "name": "ipython",
    "version": 3
   },
   "file_extension": ".py",
   "mimetype": "text/x-python",
   "name": "python",
   "nbconvert_exporter": "python",
   "pygments_lexer": "ipython3",
   "version": "3.10.11"
  }
 },
 "nbformat": 4,
 "nbformat_minor": 5
}
