{
 "cells": [
  {
   "cell_type": "code",
   "execution_count": 31,
   "id": "51a6745a-c793-4d9f-ab1c-95d05e4cbec8",
   "metadata": {
    "tags": []
   },
   "outputs": [],
   "source": [
    "# from transformers import AutoTokenizer, RobertaModel\n",
    "# from transformers import Trainer, TrainingArguments\n",
    "# import torch\n",
    "\n",
    "# #PATH\n",
    "\n",
    "# TokenizerPath = \"/home/jovyan/mi-drive/medinfo_lab/Research_Projects/zhang/Husky/kuhpTokenizer/40000_vocab\"\n",
    "\n",
    "# tokenizer = AutoTokenizer.from_pretrained('tokenizer.json')"
   ]
  },
  {
   "cell_type": "code",
   "execution_count": 15,
   "id": "a42ae83e-51c9-4197-98bd-617c94c01c51",
   "metadata": {
    "tags": []
   },
   "outputs": [],
   "source": [
    "from tokenizers.implementations import SentencePieceBPETokenizer"
   ]
  },
  {
   "cell_type": "code",
   "execution_count": 42,
   "id": "753d8b2a-aa8e-4cc3-a7aa-7add0c1ae39a",
   "metadata": {
    "tags": []
   },
   "outputs": [],
   "source": [
    "# tokenizer = SentencePieceBPETokenizer.from_file('/home/jovyan/mi-drive/medinfo_lab/Research_Projects/zhang/Husky/kuhpTokenizer/40000_vocab/bert_bpe_vocab_40000.vocab', '/home/jovyan/zhang/Husky/kuhpTokenizer/40000_vocab/merges.txt')"
   ]
  },
  {
   "cell_type": "code",
   "execution_count": 17,
   "id": "25ad6841-1fed-4977-9ceb-2191273ec122",
   "metadata": {
    "tags": []
   },
   "outputs": [],
   "source": [
    "import sentencepiece as spm\n",
    "\n",
    "# 你的 SentencePiece 模型文件\n",
    "sentencepiece_model_path = \"/home/jovyan/mi-drive/medinfo_lab/Research_Projects/zhang/Husky/kuhpTokenizer/40000_vocab/bert_bpe_vocab_40000.model\"\n",
    "\n",
    "# 载入 SentencePiece 模型\n",
    "sp = spm.SentencePieceProcessor()\n",
    "sp.load(sentencepiece_model_path)\n",
    "\n",
    "# 获取 merges 信息\n",
    "merges = sp.get_piece_size()\n",
    "\n",
    "# 生成 merges.txt 文件\n",
    "merges_txt_path = \"/home/jovyan/mi-drive/medinfo_lab/Research_Projects/zhang/Husky/kuhpTokenizer/40000_vocab/merges.txt\"\n",
    "with open(merges_txt_path, 'w', encoding='utf-8') as f:\n",
    "    for i in range(1, merges):\n",
    "        piece = sp.id_to_piece(i)\n",
    "        score = sp.get_score(i)\n",
    "        f.write(f\"{piece} {score}\\n\")\n"
   ]
  },
  {
   "cell_type": "code",
   "execution_count": 43,
   "id": "0aef721b-84ba-4e49-be20-82b5dd21fc2b",
   "metadata": {
    "tags": []
   },
   "outputs": [
    {
     "data": {
      "text/plain": [
       "True"
      ]
     },
     "execution_count": 43,
     "metadata": {},
     "output_type": "execute_result"
    }
   ],
   "source": [
    "import sentencepiece as spm\n",
    "\n",
    "sentencepiece_model_path = \"/home/jovyan/mi-drive/medinfo_lab/Research_Projects/zhang/Husky/kuhpTokenizer/40000_vocab/bert_bpe_vocab_40000.model\"\n",
    "sp = spm.SentencePieceProcessor()\n",
    "sp.load(sentencepiece_model_path)\n"
   ]
  },
  {
   "cell_type": "code",
   "execution_count": 23,
   "id": "3fba41c0-6808-4188-a10e-020fdf6d7841",
   "metadata": {
    "tags": []
   },
   "outputs": [],
   "source": [
    "vocab = {sp.id_to_piece(i): i for i in range(sp.get_piece_size())}"
   ]
  },
  {
   "cell_type": "code",
   "execution_count": 26,
   "id": "7617d85b-bf65-4fb1-9ccf-cb00bf5d0839",
   "metadata": {
    "tags": []
   },
   "outputs": [],
   "source": [
    "merges = [(sp.id_to_piece(i), sp.get_score(i)) for i in range(1, sp.get_piece_size())]"
   ]
  },
  {
   "cell_type": "code",
   "execution_count": 28,
   "id": "c2e9a02f-5ba5-4d2d-926f-8da33387d80f",
   "metadata": {
    "tags": []
   },
   "outputs": [],
   "source": [
    "import json\n",
    "tokenizer_json = {\n",
    "    \"model_type\": \"sentencepiece\",\n",
    "    \"vocab\": vocab,\n",
    "    \"merges\": merges\n",
    "}\n",
    "\n",
    "tokenizer_json_path = \"tokenizer.json\"\n",
    "with open(tokenizer_json_path, 'w', encoding='utf-8') as f:\n",
    "    json.dump(tokenizer_json, f, ensure_ascii=False, indent=2)\n"
   ]
  },
  {
   "cell_type": "code",
   "execution_count": 70,
   "id": "c91568f3-5728-49aa-b4b6-d59756123d3b",
   "metadata": {
    "tags": []
   },
   "outputs": [
    {
     "data": {
      "text/plain": [
       "'[UNK]'"
      ]
     },
     "execution_count": 70,
     "metadata": {},
     "output_type": "execute_result"
    }
   ],
   "source": [
    "sp.id_to_piece(0)"
   ]
  },
  {
   "cell_type": "code",
   "execution_count": 71,
   "id": "6bc290b6-3880-4add-abd5-0ae27b9008b1",
   "metadata": {
    "tags": []
   },
   "outputs": [
    {
     "data": {
      "text/plain": [
       "0"
      ]
     },
     "execution_count": 71,
     "metadata": {},
     "output_type": "execute_result"
    }
   ],
   "source": [
    "sp.piece_to_id('[PAD]')"
   ]
  },
  {
   "cell_type": "code",
   "execution_count": 48,
   "id": "ae64092a-7a7a-4553-852f-2cabae6372f4",
   "metadata": {
    "tags": []
   },
   "outputs": [],
   "source": [
    "max_token_id = sp.get_piece_size() - 1"
   ]
  },
  {
   "cell_type": "code",
   "execution_count": 49,
   "id": "7789704c-8ed5-4850-ae96-c52d164226f4",
   "metadata": {},
   "outputs": [
    {
     "data": {
      "text/plain": [
       "39999"
      ]
     },
     "execution_count": 49,
     "metadata": {},
     "output_type": "execute_result"
    }
   ],
   "source": [
    "max_token_id"
   ]
  },
  {
   "cell_type": "code",
   "execution_count": null,
   "id": "5f07d415-4cfc-4d46-a047-a57a366b3e17",
   "metadata": {},
   "outputs": [],
   "source": []
  }
 ],
 "metadata": {
  "kernelspec": {
   "display_name": "Python 3 (ipykernel)",
   "language": "python",
   "name": "python3"
  },
  "language_info": {
   "codemirror_mode": {
    "name": "ipython",
    "version": 3
   },
   "file_extension": ".py",
   "mimetype": "text/x-python",
   "name": "python",
   "nbconvert_exporter": "python",
   "pygments_lexer": "ipython3",
   "version": "3.10.11"
  }
 },
 "nbformat": 4,
 "nbformat_minor": 5
}
