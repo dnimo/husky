{
 "cells": [
  {
   "cell_type": "code",
   "execution_count": 1,
   "id": "3b533f11-9f24-41eb-b351-b62940ed11f8",
   "metadata": {
    "tags": []
   },
   "outputs": [],
   "source": [
    "import sys\n",
    "\n",
    "sys.path.append('/home/jovyan/mi-drive/medinfo_lab/Research_Projects/zhang/Husky/tools/')"
   ]
  },
  {
   "cell_type": "code",
   "execution_count": 6,
   "id": "d9e5cfa3-067d-4976-8e71-c63d9071fcd0",
   "metadata": {
    "tags": []
   },
   "outputs": [],
   "source": [
    "from datasets import load_dataset\n",
    "from Model.base.RoBERTa.pretrain_config import *\n",
    "\n",
    "dataset = load_dataset(\"json\", data_files=CorpusPath)"
   ]
  },
  {
   "cell_type": "code",
   "execution_count": 7,
   "id": "5c9c3fe3-df67-4c9e-87b9-867bc947c0b6",
   "metadata": {
    "tags": []
   },
   "outputs": [],
   "source": [
    "from torch.utils.data import DataLoader, random_split"
   ]
  },
  {
   "cell_type": "code",
   "execution_count": 17,
   "id": "74c13f7c-f2f1-47f3-9819-7e33ce6bff21",
   "metadata": {
    "tags": []
   },
   "outputs": [],
   "source": [
    "train_size = int(0.9 * len(dataset['train']))\n",
    "test_size = len(dataset['train']) - train_size"
   ]
  },
  {
   "cell_type": "code",
   "execution_count": 21,
   "id": "601f3281-cfd8-406c-b312-2999d284693c",
   "metadata": {
    "tags": []
   },
   "outputs": [
    {
     "data": {
      "text/plain": [
       "9819"
      ]
     },
     "execution_count": 21,
     "metadata": {},
     "output_type": "execute_result"
    }
   ],
   "source": [
    "train_size + test_size"
   ]
  },
  {
   "cell_type": "code",
   "execution_count": 22,
   "id": "ee88f8b0-99d9-4bd9-bb06-e7a3d49fb995",
   "metadata": {
    "tags": []
   },
   "outputs": [
    {
     "data": {
      "text/plain": [
       "9819"
      ]
     },
     "execution_count": 22,
     "metadata": {},
     "output_type": "execute_result"
    }
   ],
   "source": [
    "len(dataset['train'])"
   ]
  },
  {
   "cell_type": "code",
   "execution_count": 31,
   "id": "c753182b-f197-498a-b5f0-1ffcfa52e9fa",
   "metadata": {
    "tags": []
   },
   "outputs": [],
   "source": [
    "train_val = dataset[\"train\"].train_test_split(\n",
    "    test_size=1000,\n",
    "    shuffle=True,\n",
    "    seed=42\n",
    ")"
   ]
  },
  {
   "cell_type": "code",
   "execution_count": 32,
   "id": "48c24188-d890-4f0a-872a-e892b184dcce",
   "metadata": {
    "tags": []
   },
   "outputs": [],
   "source": [
    "train_data = train_val[\"train\"]\n",
    "test_data = train_val[\"test\"]"
   ]
  },
  {
   "cell_type": "code",
   "execution_count": 33,
   "id": "c814860f-213a-40f3-b278-dccf5dbb7bb4",
   "metadata": {
    "tags": []
   },
   "outputs": [
    {
     "data": {
      "application/vnd.jupyter.widget-view+json": {
       "model_id": "7b678162296c461fb9f8fdfaafa775d8",
       "version_major": 2,
       "version_minor": 0
      },
      "text/plain": [
       "Creating json from Arrow format:   0%|          | 0/9 [00:00<?, ?ba/s]"
      ]
     },
     "metadata": {},
     "output_type": "display_data"
    },
    {
     "data": {
      "text/plain": [
       "613843487"
      ]
     },
     "execution_count": 33,
     "metadata": {},
     "output_type": "execute_result"
    }
   ],
   "source": [
    "train_data.to_json('/home/jovyan/mi-drive/medinfo_lab/Research_Projects/zhang/Husky/tools/Model/base/RoBERTa/data/train_data/train_deduplicate_V_231116.json')"
   ]
  },
  {
   "cell_type": "code",
   "execution_count": 34,
   "id": "4a0b408f-950c-4748-8a31-9b9749aa190a",
   "metadata": {
    "tags": []
   },
   "outputs": [
    {
     "data": {
      "application/vnd.jupyter.widget-view+json": {
       "model_id": "ef0cce975d8346fd96420bf21f8c935b",
       "version_major": 2,
       "version_minor": 0
      },
      "text/plain": [
       "Creating json from Arrow format:   0%|          | 0/1 [00:00<?, ?ba/s]"
      ]
     },
     "metadata": {},
     "output_type": "display_data"
    },
    {
     "data": {
      "text/plain": [
       "72526151"
      ]
     },
     "execution_count": 34,
     "metadata": {},
     "output_type": "execute_result"
    }
   ],
   "source": [
    "test_data.to_json('/home/jovyan/mi-drive/medinfo_lab/Research_Projects/zhang/Husky/tools/Model/base/RoBERTa/data/test_data/test_deduplicate_V_231116.json')"
   ]
  },
  {
   "cell_type": "code",
   "execution_count": null,
   "id": "9f430e0c-52d6-43e6-bbef-6c6072264790",
   "metadata": {},
   "outputs": [],
   "source": []
  }
 ],
 "metadata": {
  "kernelspec": {
   "display_name": "Python 3 (ipykernel)",
   "language": "python",
   "name": "python3"
  },
  "language_info": {
   "codemirror_mode": {
    "name": "ipython",
    "version": 3
   },
   "file_extension": ".py",
   "mimetype": "text/x-python",
   "name": "python",
   "nbconvert_exporter": "python",
   "pygments_lexer": "ipython3",
   "version": "3.10.11"
  }
 },
 "nbformat": 4,
 "nbformat_minor": 5
}
