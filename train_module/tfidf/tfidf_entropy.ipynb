{
 "cells": [
  {
   "cell_type": "code",
   "execution_count": 1,
   "id": "54ea7bd2-e94e-44ff-8c01-99a1662371e0",
   "metadata": {
    "tags": []
   },
   "outputs": [],
   "source": [
    "from sklearn.feature_extraction.text import TfidfVectorizer\n",
    "import MeCab\n",
    "import ipadic"
   ]
  },
  {
   "cell_type": "code",
   "execution_count": 2,
   "id": "54370196-bbf3-4fc9-8929-c2b2eaa946ce",
   "metadata": {
    "tags": []
   },
   "outputs": [],
   "source": [
    "import sys\n",
    "\n",
    "sys.path.append('/home/jovyan/mi-drive/medinfo_lab/Research_Projects/zhang/Husky')"
   ]
  },
  {
   "cell_type": "code",
   "execution_count": 3,
   "id": "49544a4a-2af5-443f-99b3-757a1bf18705",
   "metadata": {
    "tags": []
   },
   "outputs": [],
   "source": [
    "from tools.tokenizers import myMeCab"
   ]
  },
  {
   "cell_type": "code",
   "execution_count": 4,
   "id": "9ff7ba7e-c0ce-4af0-ba46-c8c95c9e043b",
   "metadata": {
    "tags": []
   },
   "outputs": [
    {
     "name": "stdout",
     "output_type": "stream",
     "text": [
      "dicdir\tdicdir-O  __init__.py  ipadic.py  __pycache__\n"
     ]
    }
   ],
   "source": [
    "!ls /opt/conda/lib/python3.10/site-packages/ipadic/"
   ]
  },
  {
   "cell_type": "code",
   "execution_count": 5,
   "id": "9d94bcb3-f027-4983-8065-46572ed7f34b",
   "metadata": {
    "tags": []
   },
   "outputs": [],
   "source": [
    "TokenizerPath = '/home/jovyan/mi-drive/medinfo_lab/Research_Projects/zhang/Husky/kuhpTokenizer/40000_vocab/bert_bpe_vocab_40000.model'\n",
    "CorpusPath = '/home/jovyan/mi-drive/medinfo_lab/Research_Projects/zhang/Husky/data/del_none_data_for_train_tokenizer.txt'"
   ]
  },
  {
   "cell_type": "code",
   "execution_count": 6,
   "id": "ece768bf-542b-40c7-908e-3e3093366dd0",
   "metadata": {
    "tags": []
   },
   "outputs": [],
   "source": [
    "def load_data(CorpusPath):\n",
    "    with open(CorpusPath, 'r', encoding='utf-8') as f:\n",
    "        data = f.readlines()\n",
    "    return data"
   ]
  },
  {
   "cell_type": "code",
   "execution_count": 7,
   "id": "7e5f0647-55c6-4612-8274-29faa47b6a7c",
   "metadata": {
    "tags": []
   },
   "outputs": [],
   "source": [
    "data = load_data(CorpusPath)"
   ]
  },
  {
   "cell_type": "code",
   "execution_count": 8,
   "id": "648b45f9-3f1c-4e69-83c5-d9735fe789e3",
   "metadata": {
    "tags": []
   },
   "outputs": [],
   "source": [
    "def tokenize(data):\n",
    "    tokenized_data = []\n",
    "    for line in data:\n",
    "        _tokens = myMeCab.tokenize(text=line, stemmer=False)\n",
    "        tokenized_data.extend(_tokens)\n",
    "    return tokenized_data"
   ]
  },
  {
   "cell_type": "code",
   "execution_count": 9,
   "id": "61d9710e-ce25-4887-b74c-6c82f1d2e205",
   "metadata": {
    "tags": []
   },
   "outputs": [],
   "source": [
    "from joblib import Parallel, delayed"
   ]
  },
  {
   "cell_type": "code",
   "execution_count": 10,
   "id": "352c7af8-fa0b-4b13-a732-ebe107147b5b",
   "metadata": {
    "tags": []
   },
   "outputs": [],
   "source": [
    "tfidf_vectorizer = TfidfVectorizer(use_idf=True, tokenizer=tokenize)"
   ]
  },
  {
   "cell_type": "code",
   "execution_count": 11,
   "id": "a5d1d8e4-145e-40e1-99e3-381862b5a784",
   "metadata": {
    "tags": []
   },
   "outputs": [],
   "source": [
    "def parallelize_vectorization(text):\n",
    "    return tfidf_vectorizer.fit_transform([text])"
   ]
  },
  {
   "cell_type": "code",
   "execution_count": null,
   "id": "28bead47-6ea7-4df5-ac42-0d88b9322264",
   "metadata": {
    "tags": []
   },
   "outputs": [],
   "source": [
    "multi_processing = Parallel(n_jobs=2)\n",
    "tfidf_matrix = multi_processing(delayed(parallelize_vectorization)(text) for text in data)"
   ]
  },
  {
   "cell_type": "code",
   "execution_count": null,
   "id": "5c1b2885-2196-46ba-b968-02bf422d7813",
   "metadata": {
    "tags": []
   },
   "outputs": [],
   "source": [
    "from tools.valuations.entropy import calculate_entropy"
   ]
  },
  {
   "cell_type": "code",
   "execution_count": null,
   "id": "9a574e89-fc30-4cb2-bd01-82a775993094",
   "metadata": {
    "tags": []
   },
   "outputs": [],
   "source": [
    "output = []\n",
    "sentence_matrix = tfidf_vectorizer.transform(data[:1000]).toarray()\n",
    "for index, line in enumerate(data[:1000]):\n",
    "    ens = calculate_entropy(sentence_matrix, batch=True)\n",
    "    output.append(ens[index], line)"
   ]
  },
  {
   "cell_type": "code",
   "execution_count": null,
   "id": "5a548462-1e6c-4bac-a8c1-10755be998f0",
   "metadata": {
    "tags": []
   },
   "outputs": [],
   "source": [
    "import matplotlib.pyplot as plt\n",
    "entropy = []\n",
    "for item in output:\n",
    "    entropy.append(item[0])\n",
    "plt.hist(entropy, bins=80)\n",
    "plt.xlabel('entropy')\n",
    "plt.ylabel('count')\n",
    "plt.title('entropy distribute Plot')\n",
    "plt.savefig('example_plot.png')\n",
    "plt.show()"
   ]
  },
  {
   "cell_type": "code",
   "execution_count": null,
   "id": "67d56717-e055-47b4-aafe-b0b36ab83574",
   "metadata": {},
   "outputs": [],
   "source": []
  }
 ],
 "metadata": {
  "kernelspec": {
   "display_name": "Python 3 (ipykernel)",
   "language": "python",
   "name": "python3"
  },
  "language_info": {
   "codemirror_mode": {
    "name": "ipython",
    "version": 3
   },
   "file_extension": ".py",
   "mimetype": "text/x-python",
   "name": "python",
   "nbconvert_exporter": "python",
   "pygments_lexer": "ipython3",
   "version": "3.10.11"
  }
 },
 "nbformat": 4,
 "nbformat_minor": 5
}
